{
 "cells": [
  {
   "cell_type": "markdown",
   "id": "55bead0a",
   "metadata": {},
   "source": [
    "# Data Types and Structures Questions  "
   ]
  },
  {
   "cell_type": "code",
   "execution_count": null,
   "id": "0f350ec6",
   "metadata": {},
   "outputs": [],
   "source": [
    "1.\tWhat are data structures, and why are they important? \n",
    "o Data structures are organized ways to store, manage, and retrieve data efficiently. They include structures like arrays, lists, stacks, queues, trees, and graphs.  \n",
    "▪ Importance: \n",
    "They help in optimizing operations like searching, sorting, and modifying data, which improves the performance and efficiency of algorithms and software applications. \n",
    " \n",
    "2.\tExplain the difference between mutable and immutable data types with examples o Mutable Data Types can be changed after creation. \n",
    "Examples: \n",
    "▪\tlist → a = [1, 2, 3]; a[0] = 10 → a becomes [10, 2, 3] \n",
    "▪\tdict, set \n",
    "▪\tImmutable Data Types cannot be changed after creation. Examples: \n",
    "▪\tint, float, str, tuple → s = \"hello\"; s[0] = \"H\"  (error) ▪ Any modification creates a new object. \n",
    " \n",
    "3.\tWhat are the main differences between lists and tuples in Python? \n",
    "The main differences between lists and tuples in Python: \n",
    "Mutability: \n",
    "•\tList: Mutable (can be changed). \n",
    "•\tTuple: Immutable (cannot be changed after creation). \n",
    "Syntax: \n",
    "•\tList: Defined with square brackets [ ]. \n",
    "•\tTuple: Defined with parentheses ( ). Performance: \n",
    "•\tList: Slower (due to mutability). \n",
    "•\tTuple: Faster (optimized for immutability). \n",
    "Use Case: \n",
    "•\tList: Suitable for collections that may change. \n",
    "•\tTuple: Suitable for fixed collections or as dictionary keys. \n",
    " \n",
    "4.\tDescribe how dictionaries store data? \n",
    "•\tDictionaries in Python store data as key-value pairs. Each key is unique and maps to a specific value. Internally, dictionaries use a hash table, which allows for fast access, insertion, and deletion by computing a hash of the key to determine where to store or retrieve the value. \n",
    " \n",
    "5.\tWhy might you use a set instead of a list in Python? \n",
    "•\tSets are used instead of lists to store unique values and allow faster membership tests. \n",
    " \n",
    "6.\tWhat is a string in Python, and how is it different from a list? \n",
    "•\tA string is a sequence of characters, immutable, while a list can contain any data type and is mutable. \n",
    " \n",
    "7.\tHow do tuples ensure data integrity in Python? \n",
    "•\tTuples are immutable, ensuring data can't be changed accidentally, helping preserve data integrity. \n",
    " \n",
    "8.\tWhat is a hash table, and how does it relate to dictionaries in Python? \n",
    "•\tA hash table stores key-value pairs using a hash function; Python dictionaries are implemented using hash tables. \n",
    " \n",
    "9.\tCan lists contain different data types in Python? \n",
    "•\tYes, lists in Python can store mixed data types (e.g., integers, strings, lists, etc.). \n",
    " \n",
    "10.\tExplain why strings are immutable in Python? \n",
    "•\tStrings are immutable to ensure memory efficiency and security, and to support hashing. \n",
    "11.\tWhat advantages do dictionaries offer over lists for certain tasks? \n",
    "•\tDictionaries offer faster key-based access and are ideal for labeled data, unlike indexed access in lists. \n",
    " \n",
    "12.\tDescribe a scenario where using a tuple would be preferable over a list? \n",
    "•\tUse a tuple when storing constant data like GPS coordinates or configuration settings. \n",
    " \n",
    "13.\tHow do sets handle duplicate values in Python? \n",
    "•\tSets automatically ignore duplicates and only keep unique elements. \n",
    " \n",
    "14.\tHow does the “in” keyword work differently for lists and dictionaries? \n",
    "•\tIn a list, \"in\" checks for values; in a dictionary, it checks for keys. \n",
    " \n",
    "15.\tCan you modify the elements of a tuple? Explain why or why not? \n",
    "•\tNo, tuples are immutable, so their elements cannot be changed once created. \n",
    " \n",
    "16.\tWhat is a nested dictionary, and give an example of its use case? \n",
    "•\tA nested dictionary is a dictionary inside another dictionary. Example: {\"student\": {\"name\": \"John\", \"age\": 20}}. \n",
    " \n",
    "17.\tDescribe the time complexity of accessing elements in a dictionary? \n",
    "•\tAccessing elements in a dictionary is on average O(1) (constant time). \n",
    " \n",
    "18.\tIn what situations are lists preferred over dictionaries? \n",
    "•\tLists are preferred when order matters or data is indexed numerically. \n",
    " \n",
    "19.\tWhy are dictionaries considered unordered, and how does that affect data retrieval? \n",
    "•\tDictionaries are unordered (before Python 3.7) because they use hashes, not sequence; this affects predictable ordering. \n",
    " \n",
    "20.\tExplain the difference between a list and a dictionary in terms of data retrieval. \n",
    "• Lists retrieve data by index, while dictionaries retrieve data by key. \n",
    "  \n",
    " \t  \n"
   ]
  },
  {
   "cell_type": "markdown",
   "id": "dd3ace7c",
   "metadata": {},
   "source": [
    "# Practical Questions "
   ]
  },
  {
   "cell_type": "code",
   "execution_count": 7,
   "id": "3f765287",
   "metadata": {},
   "outputs": [
    {
     "name": "stdout",
     "output_type": "stream",
     "text": [
      "John Doe\n"
     ]
    }
   ],
   "source": [
    "#1.\tWrite a code to create a string with your name and print it\n",
    "# Create and print a string with your name\n",
    "name = (\"John Doe\" )       \n",
    "print(name) "
   ]
  },
  {
   "cell_type": "code",
   "execution_count": 8,
   "id": "32574676",
   "metadata": {},
   "outputs": [
    {
     "name": "stdout",
     "output_type": "stream",
     "text": [
      "11\n"
     ]
    }
   ],
   "source": [
    "#2.\tWrite a code to find the length of the string \"Hello World\" \n",
    "# 2. Find length of the string \"Hello World\"   \n",
    "print(len(\"Hello World\")) \n"
   ]
  },
  {
   "cell_type": "code",
   "execution_count": 10,
   "id": "7133e15c",
   "metadata": {},
   "outputs": [
    {
     "name": "stdout",
     "output_type": "stream",
     "text": [
      "Pyt\n"
     ]
    }
   ],
   "source": [
    "#3.\tWrite a code to slice the first 3 characters from the string \"Python Programming\" \n",
    "# 3. Slice the first 3 characters from \"Python Programming\"   \n",
    "print(\"Python Programming\"[:3]) \n"
   ]
  },
  {
   "cell_type": "code",
   "execution_count": 11,
   "id": "f4188672",
   "metadata": {},
   "outputs": [
    {
     "name": "stdout",
     "output_type": "stream",
     "text": [
      "HELLO\n"
     ]
    }
   ],
   "source": [
    "#4.\tWrite a code to convert the string \"hello\" to uppercase \n",
    "# 4. Convert \"hello\" to uppercase    \n",
    "print(\"hello\".upper()) \n"
   ]
  },
  {
   "cell_type": "code",
   "execution_count": 12,
   "id": "e9731f71",
   "metadata": {},
   "outputs": [
    {
     "name": "stdout",
     "output_type": "stream",
     "text": [
      "I like orange\n"
     ]
    }
   ],
   "source": [
    "#5.\tWrite a code to replace the word \"apple\" with \"orange\" in the string \"I like apple\" \n",
    "# 5. Replace \"apple\" with \"orange\"   \n",
    "print(\"I like apple\".replace(\"apple\", \"orange\")) \n"
   ]
  },
  {
   "cell_type": "code",
   "execution_count": 13,
   "id": "61560345",
   "metadata": {},
   "outputs": [
    {
     "name": "stdout",
     "output_type": "stream",
     "text": [
      "[1, 2, 3, 4, 5]\n"
     ]
    }
   ],
   "source": [
    "#6.\tWrite a code to create a list with numbers 1 to 5 and print it # 6. \n",
    "#Create a list with numbers 1 to 5        \n",
    "numbers = [1, 2, 3, 4, 5] \n",
    "print(numbers) \n"
   ]
  },
  {
   "cell_type": "code",
   "execution_count": 14,
   "id": "9eef5b45",
   "metadata": {},
   "outputs": [
    {
     "name": "stdout",
     "output_type": "stream",
     "text": [
      "[1, 2, 3, 4, 10]\n"
     ]
    }
   ],
   "source": [
    "#7.\tWrite a code to append the number 10 to the list [1, 2, 3, 4] \n",
    "# 7. Append 10 to list [1, 2, 3, 4]   \n",
    "lst = [1, 2, 3, 4] \n",
    "lst.append(10)  \n",
    "print(lst) \n"
   ]
  },
  {
   "cell_type": "code",
   "execution_count": 15,
   "id": "e99136ad",
   "metadata": {},
   "outputs": [
    {
     "name": "stdout",
     "output_type": "stream",
     "text": [
      "[1, 2, 4, 5]\n"
     ]
    }
   ],
   "source": [
    "#8.\tWrite a code to remove the number 3 from the list [1, 2, 3, 4, 5] \n",
    "# 8. Remove number 3 from list [1, 2, 3, 4, 5]   \n",
    "lst = [1, 2, 3, 4, 5]   \n",
    "lst.remove(3)   \n",
    "print(lst) \n",
    " \n"
   ]
  },
  {
   "cell_type": "code",
   "execution_count": 16,
   "id": "01048510",
   "metadata": {},
   "outputs": [
    {
     "name": "stdout",
     "output_type": "stream",
     "text": [
      "b\n"
     ]
    }
   ],
   "source": [
    "#9.\tWrite a code to access the second element in the list ['a', 'b', 'c', 'd'] \n",
    "# 9. Access second element in list ['a', 'b', 'c', 'd'] \n",
    "chars = ['a', 'b', 'c', 'd']        \n",
    "print(chars[1]) \n"
   ]
  },
  {
   "cell_type": "code",
   "execution_count": 17,
   "id": "a35198b4",
   "metadata": {},
   "outputs": [
    {
     "name": "stdout",
     "output_type": "stream",
     "text": [
      "[50, 40, 30, 20, 10]\n"
     ]
    }
   ],
   "source": [
    "#10.\tWrite a code to reverse the list [10, 20, 30, 40, 50] \n",
    "# 10. Reverse list [10, 20, 30, 40, 50]         \n",
    "lst = [10, 20, 30, 40, 50]         \n",
    "lst.reverse()         \n",
    "print(lst) \n"
   ]
  },
  {
   "cell_type": "code",
   "execution_count": 18,
   "id": "b525608d",
   "metadata": {},
   "outputs": [
    {
     "name": "stdout",
     "output_type": "stream",
     "text": [
      "(100, 200, 300)\n"
     ]
    }
   ],
   "source": [
    "#11.\tWrite a code to create a tuple with the elements 100, 200, 300 and print it. \n",
    "# 11. Create and print a tuple (100, 200, 300)      \n",
    "tup = (100, 200, 300)      \n",
    "print(tup) \n"
   ]
  },
  {
   "cell_type": "code",
   "execution_count": 19,
   "id": "5b67e5cb",
   "metadata": {},
   "outputs": [
    {
     "name": "stdout",
     "output_type": "stream",
     "text": [
      "blue\n"
     ]
    }
   ],
   "source": [
    "#12.\tWrite a code to access the second-to-last element of the tuple ('red', 'green', 'blue', 'yellow'). \n",
    "# 12. Access second-to-last element of tuple \n",
    "colors = ('red', 'green', 'blue', 'yellow')           \n",
    "print(colors[-2]) \n"
   ]
  },
  {
   "cell_type": "code",
   "execution_count": 20,
   "id": "4df894ba",
   "metadata": {},
   "outputs": [
    {
     "name": "stdout",
     "output_type": "stream",
     "text": [
      "5\n"
     ]
    }
   ],
   "source": [
    "#13.\tWrite a code to find the minimum number in the tuple (10, 20, 5, 15).           \n",
    "# 13. Find minimum in tuple (10, 20, 5, 15)                     \n",
    "print(min((10, 20, 5, 15))) "
   ]
  },
  {
   "cell_type": "code",
   "execution_count": 21,
   "id": "6c7c38ce",
   "metadata": {},
   "outputs": [
    {
     "name": "stdout",
     "output_type": "stream",
     "text": [
      "1\n"
     ]
    }
   ],
   "source": [
    "#14.\tWrite a code to find the index of the element \"cat\" in the tuple ('dog', 'cat', 'rabbit').  \n",
    "# 14. Find index of \"cat\" in tuple \n",
    "animals = ('dog', 'cat', 'rabbit')    \n",
    "print(animals.index(\"cat\")) \n"
   ]
  },
  {
   "cell_type": "code",
   "execution_count": 22,
   "id": "bebb61f5",
   "metadata": {},
   "outputs": [
    {
     "name": "stdout",
     "output_type": "stream",
     "text": [
      "False\n"
     ]
    }
   ],
   "source": [
    "#15.\tWrite a code to create a tuple containing three different fruits and check if \"kiwi\" is in it.  \n",
    "# 15. Tuple with fruits and check for \"kiwi\"      \n",
    "fruits = (\"apple\", \"banana\", \"cherry\")      \n",
    "print(\"kiwi\" in fruits) \n"
   ]
  },
  {
   "cell_type": "code",
   "execution_count": 23,
   "id": "d4438fee",
   "metadata": {},
   "outputs": [
    {
     "name": "stdout",
     "output_type": "stream",
     "text": [
      "{'c', 'a', 'b'}\n"
     ]
    }
   ],
   "source": [
    "#16.\tWrite a code to create a set with the elements 'a', 'b', 'c' and print it.            \n",
    "# 16. Create and print set with 'a', 'b', 'c'                      \n",
    "s = {'a', 'b', 'c'}                       \n",
    "print(s) "
   ]
  },
  {
   "cell_type": "code",
   "execution_count": 24,
   "id": "303c9af9",
   "metadata": {},
   "outputs": [
    {
     "name": "stdout",
     "output_type": "stream",
     "text": [
      "set()\n"
     ]
    }
   ],
   "source": [
    "#17.\tWrite a code to clear all elements from the set {1, 2, 3, 4, 5}. \n",
    "# 17. Clear all elements from set \n",
    "s = {1, 2, 3, 4, 5}     \n",
    "s.clear() \n",
    "print(s) \n"
   ]
  },
  {
   "cell_type": "code",
   "execution_count": 25,
   "id": "4ee639ee",
   "metadata": {},
   "outputs": [
    {
     "name": "stdout",
     "output_type": "stream",
     "text": [
      "{1, 2, 3}\n"
     ]
    }
   ],
   "source": [
    "#18.\tWrite a code to remove the element 4 from the set {1, 2, 3, 4}. \n",
    "# 18. Remove element 4 from set      \n",
    "s = {1, 2, 3, 4}      \n",
    "s.remove(4)      \n",
    "print(s) \n"
   ]
  },
  {
   "cell_type": "code",
   "execution_count": 26,
   "id": "82f5b25a",
   "metadata": {},
   "outputs": [
    {
     "name": "stdout",
     "output_type": "stream",
     "text": [
      "{1, 2, 3, 4, 5}\n"
     ]
    }
   ],
   "source": [
    "#19.\tWrite a code to find the union of two sets {1, 2, 3} and {3, 4, 5}. \n",
    "# 19. Union of sets {1, 2, 3} and {3, 4, 5}     \n",
    "print({1, 2, 3}.union({3, 4, 5})) \n",
    " \n"
   ]
  },
  {
   "cell_type": "code",
   "execution_count": 27,
   "id": "87ac7bbe",
   "metadata": {},
   "outputs": [
    {
     "name": "stdout",
     "output_type": "stream",
     "text": [
      "{2, 3}\n"
     ]
    }
   ],
   "source": [
    "#20.\tWrite a code to find the intersection of two sets {1, 2, 3} and {2, 3, 4}. \n",
    "# 20. Intersection of sets {1, 2, 3} and {2, 3, 4}     \n",
    "print({1, 2, 3}.intersection({2, 3, 4})) \n"
   ]
  },
  {
   "cell_type": "code",
   "execution_count": 28,
   "id": "0ad2262b",
   "metadata": {},
   "outputs": [
    {
     "name": "stdout",
     "output_type": "stream",
     "text": [
      "{'name': 'Alice', 'age': 30, 'city': 'Paris'}\n"
     ]
    }
   ],
   "source": [
    "#21.\tWrite a code to create a dictionary with the keys \"name\", \"age\", and \"city\", and print it. \n",
    "# 21. Create and print dictionary      \n",
    "person = {\"name\": \"Alice\", \"age\": 30, \"city\": \"Paris\"}      \n",
    "print(person) \n"
   ]
  },
  {
   "cell_type": "code",
   "execution_count": 29,
   "id": "58b18d57",
   "metadata": {},
   "outputs": [
    {
     "name": "stdout",
     "output_type": "stream",
     "text": [
      "{'name': 'John', 'age': 25, 'country': 'USA'}\n"
     ]
    }
   ],
   "source": [
    "#22.\tWrite a code to add a new key-value pair \"country\": \"USA\" to the dictionary {'name': 'John', 'age': 25}.  \n",
    "# 22. Add \"country\": \"USA\" to dictionary     \n",
    "person = {'name': 'John', 'age': 25}     \n",
    "person[\"country\"] = \"USA\"    \n",
    "print(person) \n",
    " \n"
   ]
  },
  {
   "cell_type": "code",
   "execution_count": 30,
   "id": "ad11445e",
   "metadata": {},
   "outputs": [
    {
     "name": "stdout",
     "output_type": "stream",
     "text": [
      "Alice\n"
     ]
    }
   ],
   "source": [
    "#23.\tWrite a code to access the value associated with the key \"name\" in the dictionary {'name': 'Alice', 'age': 30}. \n",
    "# 23. Access value of key \"name\"     \n",
    "person = {'name': 'Alice', 'age': 30}     \n",
    "print(person[\"name\"]) \n"
   ]
  },
  {
   "cell_type": "code",
   "execution_count": 31,
   "id": "532a5eb9",
   "metadata": {},
   "outputs": [
    {
     "name": "stdout",
     "output_type": "stream",
     "text": [
      "{'name': 'Bob', 'city': 'New York'}\n"
     ]
    }
   ],
   "source": [
    "#24.\tWrite a code to remove the key \"age\" from the dictionary {'name': 'Bob', 'age': 22, 'city': 'New York'}.  \n",
    "# 24. Remove key \"age\" from dictionary     \n",
    "person = {'name': 'Bob', 'age': 22, 'city': 'New York'}     \n",
    "del person[\"age\"]     \n",
    "print(person) \n"
   ]
  },
  {
   "cell_type": "code",
   "execution_count": 32,
   "id": "b1964cd7",
   "metadata": {},
   "outputs": [
    {
     "name": "stdout",
     "output_type": "stream",
     "text": [
      "True\n"
     ]
    }
   ],
   "source": [
    "#25.\ta code to check if the key \"city\" exists in the dictionary {'name': 'Alice', 'city': 'Paris'}. \n",
    "# 25. Check if key \"city\" exists     \n",
    "person = {'name': 'Alice', 'city': 'Paris'}     \n",
    "print(\"city\" in person) \n"
   ]
  },
  {
   "cell_type": "code",
   "execution_count": 33,
   "id": "ab264756",
   "metadata": {},
   "outputs": [
    {
     "name": "stdout",
     "output_type": "stream",
     "text": [
      "[1, 2, 3] (4, 5, 6) {'a': 1, 'b': 2}\n"
     ]
    }
   ],
   "source": [
    "#26.\tWrite a code to create a list, a tuple, and a dictionary, and print them all. \n",
    "# 26. Create list, tuple, dictionary and print all     \n",
    "my_list = [1, 2, 3]      \n",
    "my_tuple = (4, 5, 6)      \n",
    "my_dict = {\"a\": 1, \"b\": 2}      \n",
    "print(my_list, my_tuple, my_dict) \n"
   ]
  },
  {
   "cell_type": "code",
   "execution_count": 34,
   "id": "7c643bdd",
   "metadata": {},
   "outputs": [
    {
     "name": "stdout",
     "output_type": "stream",
     "text": [
      "[32, 45, 51, 79, 85]\n"
     ]
    }
   ],
   "source": [
    "#27.\tWrite a code to create a list of 5 random numbers between 1 and 100, sort it in ascending order, and print the result.(replaced)  \n",
    "# 27. Create list of 5 random numbers and sort \n",
    "import random    \n",
    "nums = random.sample(range(1, 101), 5)    \n",
    "nums.sort()    \n",
    "print(nums) \n"
   ]
  },
  {
   "cell_type": "code",
   "execution_count": 35,
   "id": "144b7fbe",
   "metadata": {},
   "outputs": [
    {
     "name": "stdout",
     "output_type": "stream",
     "text": [
      "date\n"
     ]
    }
   ],
   "source": [
    "#28.\tWrite a code to create a list with strings and print the element at the third index. \n",
    "# 28. List with strings and print element at index 3     \n",
    "words = [\"apple\", \"banana\", \"cherry\", \"date\", \"fig\"]     \n",
    "print(words[3]) \n"
   ]
  },
  {
   "cell_type": "code",
   "execution_count": 36,
   "id": "fd44f397",
   "metadata": {},
   "outputs": [
    {
     "name": "stdout",
     "output_type": "stream",
     "text": [
      "{'a': 1, 'b': 2, 'c': 3, 'd': 4}\n"
     ]
    }
   ],
   "source": [
    "#29.\tWrite a code to combine two dictionaries into one and print the result.  \n",
    "# 29. Combine two dictionaries     \n",
    "dict1 = {\"a\": 1, \"b\": 2}     \n",
    "dict2 = {\"c\": 3, \"d\": 4}     \n",
    "combined = {**dict1, **dict2}     \n",
    "print(combined) \n"
   ]
  },
  {
   "cell_type": "code",
   "execution_count": 38,
   "id": "f3818cca",
   "metadata": {},
   "outputs": [
    {
     "name": "stdout",
     "output_type": "stream",
     "text": [
      "{'banana', 'apple'}\n"
     ]
    }
   ],
   "source": [
    "#30.\tWrite a code to convert a list of strings into a set. \n",
    "# 30. Convert list of strings into set \n",
    "str_list = [\"apple\", \"banana\", \"apple\"] \n",
    "str_set = set(str_list)    \n",
    "print(str_set) \n",
    " \n"
   ]
  },
  {
   "cell_type": "code",
   "execution_count": null,
   "id": "46633c84",
   "metadata": {},
   "outputs": [],
   "source": []
  }
 ],
 "metadata": {
  "kernelspec": {
   "display_name": "Python 3",
   "language": "python",
   "name": "python3"
  },
  "language_info": {
   "codemirror_mode": {
    "name": "ipython",
    "version": 3
   },
   "file_extension": ".py",
   "mimetype": "text/x-python",
   "name": "python",
   "nbconvert_exporter": "python",
   "pygments_lexer": "ipython3",
   "version": "3.8.8"
  }
 },
 "nbformat": 4,
 "nbformat_minor": 5
}
